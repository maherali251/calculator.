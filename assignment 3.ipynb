{
 "cells": [
  {
   "cell_type": "code",
   "execution_count": 3,
   "id": "f2f2e75c-fc21-4f07-9d54-f5495fcc3b1a",
   "metadata": {},
   "outputs": [
    {
     "name": "stdout",
     "output_type": "stream",
     "text": [
      "Money left after purchasing the item: $34.55\n"
     ]
    }
   ],
   "source": [
    "##1. Write a Python program that can do the following:\n",
    "##- You have $50\n",
    "##- You buy an item that is $15, that has a 3% tax\n",
    "##- Print how much money you have left, after purchasing the item.\n",
    "\n",
    "initial_amount = 50.00\n",
    "\n",
    "\n",
    "item_price = 15.00\n",
    "\n",
    "\n",
    "tax_rate = 0.03\n",
    "\n",
    "tax_amount = item_price * tax_rate\n",
    "\n",
    "total_cost = item_price + tax_amount\n",
    "\n",
    "remaining_money = initial_amount - total_cost\n",
    "\n",
    "print(f\"Money left after purchasing the item: ${remaining_money:.2f}\")"
   ]
  },
  {
   "cell_type": "code",
   "execution_count": 5,
   "id": "7debe542-fe91-4283-b73e-84f2cb607763",
   "metadata": {},
   "outputs": [
    {
     "name": "stdin",
     "output_type": "stream",
     "text": [
      "How many days are left until your birthday?  22\n"
     ]
    },
    {
     "name": "stdout",
     "output_type": "stream",
     "text": [
      "Approximately 3.1 weeks until your birthday.\n"
     ]
    }
   ],
   "source": [
    "#2. Ask the user how many days until their birthday\n",
    "#- Print an approx. number of weeks until their birthday\n",
    "#- 1 week is = to 7 days.\n",
    "\n",
    "\n",
    "days_until_birthday = int(input(\"How many days are left until your birthday? \"))\n",
    "\n",
    "\n",
    "weeks_until_birthday = days_until_birthday / 7\n",
    "\n",
    "print(f\"Approximately {weeks_until_birthday:.1f} weeks until your birthday.\")\n"
   ]
  },
  {
   "cell_type": "code",
   "execution_count": 7,
   "id": "f53501f2-dc7f-477e-b976-c1f8213c0915",
   "metadata": {},
   "outputs": [
    {
     "name": "stdin",
     "output_type": "stream",
     "text": [
      "Enter your Number: 33\n"
     ]
    },
    {
     "name": "stdout",
     "output_type": "stream",
     "text": [
      "F\n"
     ]
    }
   ],
   "source": [
    "#3. Create a variable “Grade” holding an integer between 0 to100. Code to print\n",
    "#the letter grade of the number grade variable.\n",
    "#Grades:\n",
    "#- A = 90 - 100\n",
    "#- B = 80 - 89\n",
    "#- C = 70-79\n",
    "#- D = 60 - 69\n",
    "#- F = 0 – 59\n",
    "\n",
    "temp = int(input('Enter your Number:'))\n",
    "if temp >= 90 and temp <=100:\n",
    "    print('A')\n",
    "elif temp >= 80 and temp <= 89:\n",
    "    print('B')\n",
    "elif temp >= 70 and temp <= 79:\n",
    "    print('C')\n",
    "elif temp >= 60 and temp <= 69:\n",
    "    print('D')\n",
    "else:\n",
    "    print('F')"
   ]
  },
  {
   "cell_type": "code",
   "execution_count": null,
   "id": "8fadf897-40f3-4e37-967b-41d20c478460",
   "metadata": {},
   "outputs": [],
   "source": []
  }
 ],
 "metadata": {
  "kernelspec": {
   "display_name": "Python 3 (ipykernel)",
   "language": "python",
   "name": "python3"
  },
  "language_info": {
   "codemirror_mode": {
    "name": "ipython",
    "version": 3
   },
   "file_extension": ".py",
   "mimetype": "text/x-python",
   "name": "python",
   "nbconvert_exporter": "python",
   "pygments_lexer": "ipython3",
   "version": "3.12.4"
  }
 },
 "nbformat": 4,
 "nbformat_minor": 5
}
